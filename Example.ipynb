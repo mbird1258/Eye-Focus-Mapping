{
 "cells": [
  {
   "cell_type": "code",
   "execution_count": null,
   "metadata": {},
   "outputs": [],
   "source": [
    "# Import dependencies\n",
    "import manager\n",
    "import numpy as np"
   ]
  },
  {
   "cell_type": "code",
   "execution_count": null,
   "metadata": {},
   "outputs": [],
   "source": [
    "# Reimport manager (for if changes are made)\n",
    "import importlib\n",
    "importlib.reload(manager)\n",
    "importlib.reload(manager.utils)\n",
    "\n",
    "# Specify videos to use\n",
    "vid1 = \"In/iPad Vid Eyes 1.mov\"\n",
    "StartFrame1 = 255+(10-10)\n",
    "vid2 = \"In/iPhone Vid Eyes 1.mov\"\n",
    "StartFrame2 = 255+(78-10)\n",
    "\n",
    "# https://www.geogebra.org/3d/k7waft2t\n",
    "K = np.array((26.67, -30.2, 226.6))\n",
    "L = np.array((-9.72, -29.69, 226.73))\n",
    "M = np.array((26.92, -10.51, 216.56))\n",
    "N = L+M-K\n",
    "\n",
    "# Initialize eye manager\n",
    "a = manager.EyeManager(CamOffset = [37.2, 12, 0], CamViewDepth = [1846.897, 1779.192])\n",
    "\n",
    "\"\"\"\n",
    "36.4x22.1 cm (Cupboard internal width x Cupboard internal height)\n",
    "\"\"\";"
   ]
  },
  {
   "cell_type": "code",
   "execution_count": null,
   "metadata": {},
   "outputs": [],
   "source": [
    "# Reimport manager (for if changes are made)\n",
    "import importlib\n",
    "importlib.reload(manager)\n",
    "importlib.reload(manager.utils)\n",
    "\n",
    "# Specify videos to use\n",
    "vid1 = \"In/iPad Vid Eyes 2.mov\"\n",
    "StartFrame1 = 15+(515-515)\n",
    "vid2 = \"In/iPhone Vid Eyes 2.mov\"\n",
    "StartFrame2 = 15+(687-515)\n",
    "\n",
    "# https://www.geogebra.org/3d/k7waft2t\n",
    "K = np.array((-14.8, -48.04, 212.24))\n",
    "L = np.array((-51.18, -47.58, 210.91))\n",
    "M = np.array((-14.26, -27.36, 204.46))\n",
    "N = L+M-K\n",
    "\n",
    "# Initialize eye manager\n",
    "a = manager.EyeManager(CamOffset = [26.1, 9.3, 0], CamViewDepth = [1846.897, 1702.957])"
   ]
  },
  {
   "cell_type": "code",
   "execution_count": null,
   "metadata": {},
   "outputs": [],
   "source": [
    "%matplotlib\n",
    "a.GetHomographyMatrixRefPoints(False, vid1, StartFrame1, vid2, StartFrame2, \"CourtStorage.pkl\")\n",
    "\n",
    "\"\"\"\n",
    "Order of placement matters. Select corner of rectangle with sides of known length, put corner point first, then the two others in the same order in both images. Second image requires the fourth point. \n",
    "Used to find KLMN Values for above. If already there, no need to do again. \n",
    "\"\"\";"
   ]
  },
  {
   "cell_type": "code",
   "execution_count": null,
   "metadata": {},
   "outputs": [],
   "source": [
    "%matplotlib inline\n",
    "a.ProcessVideo(vid1, StartFrame1, vid2, StartFrame2, (K, L, M, N), \"StorageEyes.pkl\", \"CourtStorage.pkl\", length=300)"
   ]
  },
  {
   "cell_type": "code",
   "execution_count": null,
   "metadata": {},
   "outputs": [],
   "source": [
    "%matplotlib\n",
    "a.PlayVideo(\"StorageEyes.pkl\")"
   ]
  }
 ],
 "metadata": {
  "kernelspec": {
   "display_name": "Python 3",
   "language": "python",
   "name": "python3"
  },
  "language_info": {
   "codemirror_mode": {
    "name": "ipython",
    "version": 3
   },
   "file_extension": ".py",
   "mimetype": "text/x-python",
   "name": "python",
   "nbconvert_exporter": "python",
   "pygments_lexer": "ipython3",
   "version": "3.11.1"
  }
 },
 "nbformat": 4,
 "nbformat_minor": 2
}
